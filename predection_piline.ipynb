{
  "nbformat": 4,
  "nbformat_minor": 0,
  "metadata": {
    "colab": {
      "private_outputs": true,
      "provenance": [],
      "authorship_tag": "ABX9TyOKZMWta7xtxZ6TNaNSt97d",
      "include_colab_link": true
    },
    "kernelspec": {
      "name": "python3",
      "display_name": "Python 3"
    },
    "language_info": {
      "name": "python"
    }
  },
  "cells": [
    {
      "cell_type": "markdown",
      "metadata": {
        "id": "view-in-github",
        "colab_type": "text"
      },
      "source": [
        "<a href=\"https://colab.research.google.com/github/amitroyal8755/pipeline/blob/main/predection_piline.ipynb\" target=\"_parent\"><img src=\"https://colab.research.google.com/assets/colab-badge.svg\" alt=\"Open In Colab\"/></a>"
      ]
    },
    {
      "cell_type": "code",
      "execution_count": null,
      "metadata": {
        "id": "tZ-8bLFqr2nx"
      },
      "outputs": [],
      "source": [
        "import pickle\n",
        "import numpy as np"
      ]
    },
    {
      "cell_type": "code",
      "source": [
        "pipe=pickle.load(open(\"/content/pipe.pkl\",\"rb\"))"
      ],
      "metadata": {
        "id": "RLcGFGlgsDtt"
      },
      "execution_count": null,
      "outputs": []
    },
    {
      "cell_type": "code",
      "source": [
        "pipe.feature_names_in_"
      ],
      "metadata": {
        "id": "5iLYCqI4sOW_"
      },
      "execution_count": null,
      "outputs": []
    },
    {
      "cell_type": "code",
      "source": [
        "test_input=np.array([1, 'female', 38.0, 1, 0, 71.2833, 'C']).reshape(1,7)"
      ],
      "metadata": {
        "id": "T1Ib3dzytOb3"
      },
      "execution_count": null,
      "outputs": []
    },
    {
      "cell_type": "code",
      "source": [
        "pipe.predict(test_input)"
      ],
      "metadata": {
        "id": "wMZ2p5pzsfVZ"
      },
      "execution_count": null,
      "outputs": []
    },
    {
      "cell_type": "code",
      "source": [],
      "metadata": {
        "id": "UWK-MQKMtLsL"
      },
      "execution_count": null,
      "outputs": []
    }
  ]
}