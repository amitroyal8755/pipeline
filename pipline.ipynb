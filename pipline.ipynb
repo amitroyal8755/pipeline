{
  "nbformat": 4,
  "nbformat_minor": 0,
  "metadata": {
    "colab": {
      "private_outputs": true,
      "provenance": [],
      "authorship_tag": "ABX9TyNkGVwCR6fq4ZiVb0n/zQYs",
      "include_colab_link": true
    },
    "kernelspec": {
      "name": "python3",
      "display_name": "Python 3"
    },
    "language_info": {
      "name": "python"
    }
  },
  "cells": [
    {
      "cell_type": "markdown",
      "metadata": {
        "id": "view-in-github",
        "colab_type": "text"
      },
      "source": [
        "<a href=\"https://colab.research.google.com/github/amitroyal8755/pipeline/blob/main/pipline.ipynb\" target=\"_parent\"><img src=\"https://colab.research.google.com/assets/colab-badge.svg\" alt=\"Open In Colab\"/></a>"
      ]
    },
    {
      "cell_type": "code",
      "source": [
        "#age---> impution ---> si---trf1\n",
        "#sex---> encoding---> ohe ---trf2\n",
        "#embarked0> encoding->ohe---trf3\n",
        "#minmax scaller-------------model"
      ],
      "metadata": {
        "id": "ozV1-SJuq2Nt"
      },
      "execution_count": null,
      "outputs": []
    },
    {
      "cell_type": "code",
      "execution_count": null,
      "metadata": {
        "id": "Qdea_xlEgl0B"
      },
      "outputs": [],
      "source": [
        "import pandas as pd\n",
        "import numpy as np\n",
        "import seaborn as sns\n",
        "from sklearn.compose import ColumnTransformer\n",
        "from sklearn.impute import SimpleImputer\n",
        "from sklearn.preprocessing import OneHotEncoder,MinMaxScaler\n",
        "from sklearn.pipeline import Pipeline\n",
        "from sklearn.linear_model import LogisticRegression\n",
        "from sklearn.metrics import accuracy_score"
      ]
    },
    {
      "cell_type": "code",
      "source": [
        "df=sns.load_dataset(\"titanic\")"
      ],
      "metadata": {
        "id": "G1tPtgc2g7qc"
      },
      "execution_count": null,
      "outputs": []
    },
    {
      "cell_type": "code",
      "source": [
        "df.drop(columns=['class','who','adult_male','deck','embark_town','alive','alone'],inplace=True)\n",
        "df = df.dropna(subset=[\"embarked\"])"
      ],
      "metadata": {
        "id": "Jjv1_k1ShQrp"
      },
      "execution_count": null,
      "outputs": []
    },
    {
      "cell_type": "code",
      "source": [
        "df.head()"
      ],
      "metadata": {
        "id": "Im9dvY5NhdZs"
      },
      "execution_count": null,
      "outputs": []
    },
    {
      "cell_type": "code",
      "source": [
        "y=df[\"survived\"]\n",
        "x=df.drop(\"survived\",axis=1)"
      ],
      "metadata": {
        "id": "ok3xCFrQinyH"
      },
      "execution_count": null,
      "outputs": []
    },
    {
      "cell_type": "code",
      "source": [
        "from sklearn.model_selection import train_test_split\n",
        "xtrain,xtest,ytrain,ytest=train_test_split(x,y,test_size=0.2,random_state=2)"
      ],
      "metadata": {
        "id": "11TVfdfsh69A"
      },
      "execution_count": null,
      "outputs": []
    },
    {
      "cell_type": "code",
      "source": [
        "xtrain.isnull().mean()*100"
      ],
      "metadata": {
        "id": "fhty40Muj7Zq"
      },
      "execution_count": null,
      "outputs": []
    },
    {
      "cell_type": "code",
      "source": [
        "xtrain.head()"
      ],
      "metadata": {
        "id": "VBfz_GWCiLe6"
      },
      "execution_count": null,
      "outputs": []
    },
    {
      "cell_type": "code",
      "source": [
        "ms=MinMaxScaler()\n",
        "lr=LogisticRegression()\n",
        "ctrf=ColumnTransformer([(\"trf1\",SimpleImputer(),[2]),(\"trf2\",OneHotEncoder(handle_unknown='error',sparse=False),[1]),(\"trf3\",OneHotEncoder(handle_unknown='error',sparse=False),[6])],remainder=\"passthrough\")"
      ],
      "metadata": {
        "id": "28vB7S0_lVUj"
      },
      "execution_count": null,
      "outputs": []
    },
    {
      "cell_type": "code",
      "source": [
        "pipe=Pipeline([(\"trans\",ctrf),(\"scaller\",ms),(\"model\",lr)])\n",
        "pipe"
      ],
      "metadata": {
        "id": "2VHl6JtgoDo2"
      },
      "execution_count": null,
      "outputs": []
    },
    {
      "cell_type": "code",
      "source": [
        "pipe.fit(xtrain,ytrain)"
      ],
      "metadata": {
        "id": "ffo76Y5Qo0QP"
      },
      "execution_count": null,
      "outputs": []
    },
    {
      "cell_type": "code",
      "source": [
        "ypred=pipe.predict(xtest)"
      ],
      "metadata": {
        "id": "wJN9l9JYpCfV"
      },
      "execution_count": null,
      "outputs": []
    },
    {
      "cell_type": "code",
      "source": [
        "accuracy_score(ypred,ytest)"
      ],
      "metadata": {
        "id": "7VYOO52Qp2F0"
      },
      "execution_count": null,
      "outputs": []
    },
    {
      "cell_type": "code",
      "source": [
        "import pickle"
      ],
      "metadata": {
        "id": "11nio5sZrBSF"
      },
      "execution_count": null,
      "outputs": []
    },
    {
      "cell_type": "code",
      "source": [
        "pickle.dump(pipe,open(\"pipe.pkl\",\"wb\"))"
      ],
      "metadata": {
        "id": "22rUhPB6rVai"
      },
      "execution_count": null,
      "outputs": []
    },
    {
      "cell_type": "code",
      "source": [],
      "metadata": {
        "id": "jVhpzCetrhzi"
      },
      "execution_count": null,
      "outputs": []
    }
  ]
}