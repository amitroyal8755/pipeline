{
  "nbformat": 4,
  "nbformat_minor": 0,
  "metadata": {
    "colab": {
      "private_outputs": true,
      "provenance": [],
      "authorship_tag": "ABX9TyOFRdxqtfJhxjPCH4+gmDDI",
      "include_colab_link": true
    },
    "kernelspec": {
      "name": "python3",
      "display_name": "Python 3"
    },
    "language_info": {
      "name": "python"
    }
  },
  "cells": [
    {
      "cell_type": "markdown",
      "metadata": {
        "id": "view-in-github",
        "colab_type": "text"
      },
      "source": [
        "<a href=\"https://colab.research.google.com/github/amitroyal8755/pipeline/blob/main/withoutpipelineipynb.ipynb\" target=\"_parent\"><img src=\"https://colab.research.google.com/assets/colab-badge.svg\" alt=\"Open In Colab\"/></a>"
      ]
    },
    {
      "cell_type": "code",
      "execution_count": null,
      "metadata": {
        "id": "j1Wmw8BH0QXC"
      },
      "outputs": [],
      "source": [
        "import pandas as pd\n",
        "import numpy as np\n",
        "import seaborn as sns"
      ]
    },
    {
      "cell_type": "code",
      "source": [
        "df=sns.load_dataset(\"titanic\")"
      ],
      "metadata": {
        "id": "A9LOBGXL0okc"
      },
      "execution_count": null,
      "outputs": []
    },
    {
      "cell_type": "code",
      "source": [
        "df.head()"
      ],
      "metadata": {
        "id": "8u4g7-7k0xCi"
      },
      "execution_count": null,
      "outputs": []
    },
    {
      "cell_type": "code",
      "source": [
        "df=df[[\"survived\",\"pclass\",\"sex\",\"age\",\"sibsp\",\"parch\",\"fare\",\"embarked\"]]\n",
        "df.head()"
      ],
      "metadata": {
        "id": "Am7U2jfc0_ZS"
      },
      "execution_count": null,
      "outputs": []
    },
    {
      "cell_type": "code",
      "source": [
        "#train_test_split"
      ],
      "metadata": {
        "id": "oxImfT-J0yng"
      },
      "execution_count": null,
      "outputs": []
    },
    {
      "cell_type": "code",
      "source": [
        "y=df[\"survived\"]\n",
        "x=df.drop(\"survived\",axis=1)"
      ],
      "metadata": {
        "id": "lwXlzL8J01mK"
      },
      "execution_count": null,
      "outputs": []
    },
    {
      "cell_type": "code",
      "source": [
        "from sklearn.model_selection import train_test_split\n",
        "xtrain,xtest,ytrain,ytest=train_test_split(x,y,test_size=0.2,random_state=2)"
      ],
      "metadata": {
        "id": "_3sGV5Nx2Cy9"
      },
      "execution_count": null,
      "outputs": []
    },
    {
      "cell_type": "code",
      "source": [
        "xtrain.head()"
      ],
      "metadata": {
        "id": "bApn3qyd2EaR"
      },
      "execution_count": null,
      "outputs": []
    },
    {
      "cell_type": "code",
      "source": [
        "xtrain.isnull().mean()*100"
      ],
      "metadata": {
        "id": "A7xjE7cR2iwt"
      },
      "execution_count": null,
      "outputs": []
    },
    {
      "cell_type": "code",
      "source": [
        "for i in xtrain.columns:\n",
        "  if xtrain[i].dtypes==\"object\":\n",
        "    print(i)"
      ],
      "metadata": {
        "id": "BHda4LKr221O"
      },
      "execution_count": null,
      "outputs": []
    },
    {
      "cell_type": "code",
      "source": [
        "from sklearn.impute import SimpleImputer\n",
        "si=SimpleImputer()\n",
        "si.fit(xtrain[\"age\"].values.reshape(-1,1))"
      ],
      "metadata": {
        "id": "DkHW6xpJ4g7w"
      },
      "execution_count": null,
      "outputs": []
    },
    {
      "cell_type": "code",
      "source": [
        "age_train_trf=si.transform(xtrain.iloc[:,2].values.reshape(-1,1))\n",
        "age_test_trf=age_train=si.transform(xtest.iloc[:,2].values.reshape(-1,1))"
      ],
      "metadata": {
        "id": "FIgkIynE7OZq"
      },
      "execution_count": null,
      "outputs": []
    },
    {
      "cell_type": "code",
      "source": [
        "from sklearn.preprocessing import OneHotEncoder\n",
        "oh_sex=OneHotEncoder(drop=\"first\",sparse=False)\n",
        "oh_sex.fit(xtrain[\"sex\"].values.reshape(-1,1))"
      ],
      "metadata": {
        "id": "dt3MDT9J6Cxc"
      },
      "execution_count": null,
      "outputs": []
    },
    {
      "cell_type": "code",
      "source": [
        "sex_xtrain_trf=oh_sex.transform(xtrain.iloc[:,1].values.reshape(-1,1))\n",
        "sex_xtest_trf=oh_sex.transform(xtest.iloc[:,1].values.reshape(-1,1))"
      ],
      "metadata": {
        "id": "G2d3hKvo9u37"
      },
      "execution_count": null,
      "outputs": []
    },
    {
      "cell_type": "code",
      "source": [
        "oh_embarked=OneHotEncoder(drop=\"first\",sparse=False)\n",
        "oh_embarked.fit(xtrain[\"embarked\"].values.reshape(-1,1))"
      ],
      "metadata": {
        "id": "Mj1EpGKj-pIW"
      },
      "execution_count": null,
      "outputs": []
    },
    {
      "cell_type": "code",
      "source": [
        "embarked_xtrain_trf=oh_embarked.transform(xtrain.iloc[:,6].values.reshape(-1,1))\n",
        "embarked_xtest_trf=oh_embarked.transform(xtest.iloc[:,6].values.reshape(-1,1))"
      ],
      "metadata": {
        "id": "oT-ihLP1_AHu"
      },
      "execution_count": null,
      "outputs": []
    },
    {
      "cell_type": "code",
      "source": [
        "xtrain.columns"
      ],
      "metadata": {
        "id": "yshOTS0SAKIX"
      },
      "execution_count": null,
      "outputs": []
    },
    {
      "cell_type": "code",
      "source": [
        "main_train=xtrain.drop(columns=[\"sex\",\"age\",\"embarked\"])\n",
        "main_test=xtest.drop(columns=[\"sex\",\"age\",\"embarked\"])"
      ],
      "metadata": {
        "id": "HEbAkFUmAchz"
      },
      "execution_count": null,
      "outputs": []
    },
    {
      "cell_type": "code",
      "source": [
        "xtrain_conc=np.concatenate((main_train,age_train_trf,sex_xtrain_trf,embarked_xtrain_trf),axis=1)\n",
        "xtest_conc=np.concatenate((main_test,age_test_trf,sex_xtest_trf,embarked_xtest_trf),axis=1)"
      ],
      "metadata": {
        "id": "BXMEMLM9ArR_"
      },
      "execution_count": null,
      "outputs": []
    },
    {
      "cell_type": "code",
      "source": [],
      "metadata": {
        "id": "vJxDnLeyAOpI"
      },
      "execution_count": null,
      "outputs": []
    },
    {
      "cell_type": "code",
      "source": [
        "from sklearn.preprocessing import MinMaxScaler\n",
        "ms=MinMaxScaler()"
      ],
      "metadata": {
        "id": "wQFRGWFt_rY0"
      },
      "execution_count": null,
      "outputs": []
    },
    {
      "cell_type": "code",
      "source": [
        "ms.fit(xtrain_conc)\n",
        "#min max"
      ],
      "metadata": {
        "id": "ZGyZhAzM2thF"
      },
      "execution_count": null,
      "outputs": []
    },
    {
      "cell_type": "code",
      "source": [
        "xtrain_final=ms.transform(xtrain_conc)\n",
        "xtest_final=ms.transform(xtest_conc)"
      ],
      "metadata": {
        "id": "Ky7Vpo-tCQlt"
      },
      "execution_count": null,
      "outputs": []
    },
    {
      "cell_type": "code",
      "source": [
        "from sklearn.linear_model import LogisticRegression\n",
        "lr=LogisticRegression()\n"
      ],
      "metadata": {
        "id": "yNRmYoiSCige"
      },
      "execution_count": null,
      "outputs": []
    },
    {
      "cell_type": "code",
      "source": [
        "lr.fit(xtrain_final,ytrain)"
      ],
      "metadata": {
        "id": "OUa4Q05eClZ6"
      },
      "execution_count": null,
      "outputs": []
    },
    {
      "cell_type": "code",
      "source": [
        "y_pred=lr.predict(xtest_final)"
      ],
      "metadata": {
        "id": "_uBRkjd2DBs4"
      },
      "execution_count": null,
      "outputs": []
    },
    {
      "cell_type": "code",
      "source": [
        "from sklearn.metrics import accuracy_score\n"
      ],
      "metadata": {
        "id": "Q6hJlmOzDMUt"
      },
      "execution_count": null,
      "outputs": []
    },
    {
      "cell_type": "code",
      "source": [
        "accuracy_score(ytest,y_pred)"
      ],
      "metadata": {
        "id": "juasbj2NDmTc"
      },
      "execution_count": null,
      "outputs": []
    },
    {
      "cell_type": "code",
      "source": [
        "import pickle"
      ],
      "metadata": {
        "id": "AHOWNl6jDs4e"
      },
      "execution_count": null,
      "outputs": []
    },
    {
      "cell_type": "code",
      "source": [
        "pickle.dump(si,open(\"si.pkl\",\"wb\"))\n",
        "pickle.dump(oh_sex,open(\"oh_sex.pkl\",\"wb\"))\n",
        "pickle.dump(oh_embarked,open(\"oh_embarked.pkl\",\"wb\"))\n",
        "pickle.dump(ms,open(\"ms.pkl\",\"wb\"))\n",
        "pickle.dump(lr,open(\"lr.pkl\",\"wb\"))"
      ],
      "metadata": {
        "id": "ABYOM447D_N7"
      },
      "execution_count": null,
      "outputs": []
    },
    {
      "cell_type": "code",
      "source": [],
      "metadata": {
        "id": "4M7HZtxfFFkB"
      },
      "execution_count": null,
      "outputs": []
    }
  ]
}